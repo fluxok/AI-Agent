{
 "cells": [
  {
   "cell_type": "markdown",
   "id": "a4f68450",
   "metadata": {},
   "source": [
    "# Exploring training data set"
   ]
  },
  {
   "cell_type": "code",
   "execution_count": 1,
   "id": "adbfab64",
   "metadata": {},
   "outputs": [],
   "source": [
    "import pandas as pd\n",
    "import matplotlib.pyplot as plt"
   ]
  },
  {
   "cell_type": "code",
   "execution_count": 2,
   "id": "562cd843",
   "metadata": {},
   "outputs": [
    {
     "data": {
      "text/html": [
       "<div>\n",
       "<style scoped>\n",
       "    .dataframe tbody tr th:only-of-type {\n",
       "        vertical-align: middle;\n",
       "    }\n",
       "\n",
       "    .dataframe tbody tr th {\n",
       "        vertical-align: top;\n",
       "    }\n",
       "\n",
       "    .dataframe thead th {\n",
       "        text-align: right;\n",
       "    }\n",
       "</style>\n",
       "<table border=\"1\" class=\"dataframe\">\n",
       "  <thead>\n",
       "    <tr style=\"text-align: right;\">\n",
       "      <th></th>\n",
       "      <th>topic</th>\n",
       "      <th>problem_statement</th>\n",
       "      <th>solution</th>\n",
       "      <th>answer_option_1</th>\n",
       "      <th>answer_option_2</th>\n",
       "      <th>answer_option_3</th>\n",
       "      <th>answer_option_4</th>\n",
       "      <th>answer_option_5</th>\n",
       "      <th>correct_option_number</th>\n",
       "    </tr>\n",
       "  </thead>\n",
       "  <tbody>\n",
       "    <tr>\n",
       "      <th>0</th>\n",
       "      <td>Optimization of actions and planning</td>\n",
       "      <td>Maria needs to prepare for a party and has lim...</td>\n",
       "      <td>Maria should first prepare the cake and put it...</td>\n",
       "      <td>Bake the cake, decorate the living room, pick ...</td>\n",
       "      <td>Decorate the living room, bake the cake, pick ...</td>\n",
       "      <td>Pick up friend, bake the cake, decorate the li...</td>\n",
       "      <td>Bake the cake, decorate the living room, pick ...</td>\n",
       "      <td>Another answer</td>\n",
       "      <td>4</td>\n",
       "    </tr>\n",
       "    <tr>\n",
       "      <th>1</th>\n",
       "      <td>Spatial reasoning</td>\n",
       "      <td>In a room, there are 4 corners: A, B, C, and D...</td>\n",
       "      <td>The only point in a square room that is equidi...</td>\n",
       "      <td>At the center of the room</td>\n",
       "      <td>Halfway between corner A and the center of the...</td>\n",
       "      <td>At corner A</td>\n",
       "      <td>Nowhere, because it's a logical trap</td>\n",
       "      <td>Another answer</td>\n",
       "      <td>4</td>\n",
       "    </tr>\n",
       "    <tr>\n",
       "      <th>2</th>\n",
       "      <td>Spatial reasoning</td>\n",
       "      <td>Imagine that you are in a room with 4 walls, e...</td>\n",
       "      <td>To solve this spatial reasoning puzzle, you mu...</td>\n",
       "      <td>Right, Forward, Left</td>\n",
       "      <td>Right, Left, Forward</td>\n",
       "      <td>Forward, Left, Right</td>\n",
       "      <td>Left, Right, Forward</td>\n",
       "      <td>Another answer</td>\n",
       "      <td>5</td>\n",
       "    </tr>\n",
       "    <tr>\n",
       "      <th>3</th>\n",
       "      <td>Optimization of actions and planning</td>\n",
       "      <td>Laura is planning to visit three cities: A, B,...</td>\n",
       "      <td>The shortest route Laura can take is to start ...</td>\n",
       "      <td>A-B-C-A</td>\n",
       "      <td>A-C-B-A</td>\n",
       "      <td>B-A-C-B</td>\n",
       "      <td>C-A-B-C</td>\n",
       "      <td>Another answer</td>\n",
       "      <td>2</td>\n",
       "    </tr>\n",
       "    <tr>\n",
       "      <th>4</th>\n",
       "      <td>Operation of mechanisms</td>\n",
       "      <td>In a room, there are three machines controlled...</td>\n",
       "      <td>Start by flipping Switch 1 and wait for a coup...</td>\n",
       "      <td>Flip all switches and immediately check the ma...</td>\n",
       "      <td>Flip each switch one by one and enter the room...</td>\n",
       "      <td>Flip Switch 1, wait, flip it back, flip Switch...</td>\n",
       "      <td>Leave all switches off and guess the correspon...</td>\n",
       "      <td>Another answer</td>\n",
       "      <td>5</td>\n",
       "    </tr>\n",
       "  </tbody>\n",
       "</table>\n",
       "</div>"
      ],
      "text/plain": [
       "                                  topic  \\\n",
       "0  Optimization of actions and planning   \n",
       "1                     Spatial reasoning   \n",
       "2                     Spatial reasoning   \n",
       "3  Optimization of actions and planning   \n",
       "4               Operation of mechanisms   \n",
       "\n",
       "                                   problem_statement  \\\n",
       "0  Maria needs to prepare for a party and has lim...   \n",
       "1  In a room, there are 4 corners: A, B, C, and D...   \n",
       "2  Imagine that you are in a room with 4 walls, e...   \n",
       "3  Laura is planning to visit three cities: A, B,...   \n",
       "4  In a room, there are three machines controlled...   \n",
       "\n",
       "                                            solution  \\\n",
       "0  Maria should first prepare the cake and put it...   \n",
       "1  The only point in a square room that is equidi...   \n",
       "2  To solve this spatial reasoning puzzle, you mu...   \n",
       "3  The shortest route Laura can take is to start ...   \n",
       "4  Start by flipping Switch 1 and wait for a coup...   \n",
       "\n",
       "                                     answer_option_1  \\\n",
       "0  Bake the cake, decorate the living room, pick ...   \n",
       "1                          At the center of the room   \n",
       "2                               Right, Forward, Left   \n",
       "3                                            A-B-C-A   \n",
       "4  Flip all switches and immediately check the ma...   \n",
       "\n",
       "                                     answer_option_2  \\\n",
       "0  Decorate the living room, bake the cake, pick ...   \n",
       "1  Halfway between corner A and the center of the...   \n",
       "2                               Right, Left, Forward   \n",
       "3                                            A-C-B-A   \n",
       "4  Flip each switch one by one and enter the room...   \n",
       "\n",
       "                                     answer_option_3  \\\n",
       "0  Pick up friend, bake the cake, decorate the li...   \n",
       "1                                        At corner A   \n",
       "2                               Forward, Left, Right   \n",
       "3                                            B-A-C-B   \n",
       "4  Flip Switch 1, wait, flip it back, flip Switch...   \n",
       "\n",
       "                                     answer_option_4 answer_option_5  \\\n",
       "0  Bake the cake, decorate the living room, pick ...  Another answer   \n",
       "1               Nowhere, because it's a logical trap  Another answer   \n",
       "2                               Left, Right, Forward  Another answer   \n",
       "3                                            C-A-B-C  Another answer   \n",
       "4  Leave all switches off and guess the correspon...  Another answer   \n",
       "\n",
       "   correct_option_number  \n",
       "0                      4  \n",
       "1                      4  \n",
       "2                      5  \n",
       "3                      2  \n",
       "4                      5  "
      ]
     },
     "execution_count": 2,
     "metadata": {},
     "output_type": "execute_result"
    }
   ],
   "source": [
    "df = pd.read_csv('train.csv')\n",
    "df.head()"
   ]
  },
  {
   "cell_type": "code",
   "execution_count": 3,
   "id": "3b9ce43f",
   "metadata": {},
   "outputs": [
    {
     "name": "stdout",
     "output_type": "stream",
     "text": [
      "<class 'pandas.core.frame.DataFrame'>\n",
      "RangeIndex: 384 entries, 0 to 383\n",
      "Data columns (total 9 columns):\n",
      " #   Column                 Non-Null Count  Dtype \n",
      "---  ------                 --------------  ----- \n",
      " 0   topic                  384 non-null    object\n",
      " 1   problem_statement      384 non-null    object\n",
      " 2   solution               384 non-null    object\n",
      " 3   answer_option_1        384 non-null    object\n",
      " 4   answer_option_2        384 non-null    object\n",
      " 5   answer_option_3        384 non-null    object\n",
      " 6   answer_option_4        382 non-null    object\n",
      " 7   answer_option_5        384 non-null    object\n",
      " 8   correct_option_number  384 non-null    int64 \n",
      "dtypes: int64(1), object(8)\n",
      "memory usage: 27.1+ KB\n"
     ]
    }
   ],
   "source": [
    "df.info()"
   ]
  },
  {
   "cell_type": "code",
   "execution_count": 4,
   "id": "9426954a",
   "metadata": {},
   "outputs": [
    {
     "data": {
      "text/plain": [
       "topic                    0\n",
       "problem_statement        0\n",
       "solution                 0\n",
       "answer_option_1          0\n",
       "answer_option_2          0\n",
       "answer_option_3          0\n",
       "answer_option_4          2\n",
       "answer_option_5          0\n",
       "correct_option_number    0\n",
       "dtype: int64"
      ]
     },
     "execution_count": 4,
     "metadata": {},
     "output_type": "execute_result"
    }
   ],
   "source": [
    "df.isna().sum()"
   ]
  },
  {
   "cell_type": "code",
   "execution_count": 5,
   "id": "512d6cf4",
   "metadata": {},
   "outputs": [
    {
     "name": "stdout",
     "output_type": "stream",
     "text": [
      "PS WITH MISSING VALUE :\n",
      " In a machine, there are three levers: A, B, and C. Each lever can be in an up (U) or down (D) position. The machine is turned on if a specific rule of positions of levers is met. The following observations were made: \n",
      "1. When lever A was in the up position, and levers B and C in the down position, the machine was off. \n",
      "2. With levers A and B in the up position and lever C in the down position, the machine was on. \n",
      "3. When lever B was up and levers A and C were down, the machine was off. \n",
      "4. With all levers in the down position, the machine was off. \n",
      "What must be the position of levers A, B, and C for the machine to turn on?\n",
      "\n",
      "PS WITH MISSING VALUE :\n",
      " Alice, Bob, and Charlie are three siblings. Alice says, 'At least one of us is a liar.' Bob says, 'Exactly two of us are liars.' Charlie states, 'All three of us are liars.' Assuming that liars always lie and those who tell the truth always tell the truth, how many of them are lying?\n",
      "\n"
     ]
    },
    {
     "data": {
      "text/html": [
       "<div>\n",
       "<style scoped>\n",
       "    .dataframe tbody tr th:only-of-type {\n",
       "        vertical-align: middle;\n",
       "    }\n",
       "\n",
       "    .dataframe tbody tr th {\n",
       "        vertical-align: top;\n",
       "    }\n",
       "\n",
       "    .dataframe thead th {\n",
       "        text-align: right;\n",
       "    }\n",
       "</style>\n",
       "<table border=\"1\" class=\"dataframe\">\n",
       "  <thead>\n",
       "    <tr style=\"text-align: right;\">\n",
       "      <th></th>\n",
       "      <th>topic</th>\n",
       "      <th>problem_statement</th>\n",
       "      <th>solution</th>\n",
       "      <th>answer_option_1</th>\n",
       "      <th>answer_option_2</th>\n",
       "      <th>answer_option_3</th>\n",
       "      <th>answer_option_4</th>\n",
       "      <th>answer_option_5</th>\n",
       "      <th>correct_option_number</th>\n",
       "    </tr>\n",
       "  </thead>\n",
       "  <tbody>\n",
       "    <tr>\n",
       "      <th>55</th>\n",
       "      <td>Operation of mechanisms</td>\n",
       "      <td>In a machine, there are three levers: A, B, an...</td>\n",
       "      <td>Assuming the machine turns on only when a spec...</td>\n",
       "      <td>A: U, B: U, C: U</td>\n",
       "      <td>A: U, B: U, C: D</td>\n",
       "      <td>A: D, B: U, C: U</td>\n",
       "      <td>NaN</td>\n",
       "      <td>Another answer</td>\n",
       "      <td>2</td>\n",
       "    </tr>\n",
       "    <tr>\n",
       "      <th>126</th>\n",
       "      <td>Logical traps</td>\n",
       "      <td>Alice, Bob, and Charlie are three siblings. Al...</td>\n",
       "      <td>If Alice were lying, then none of the siblings...</td>\n",
       "      <td>One</td>\n",
       "      <td>Two</td>\n",
       "      <td>Three</td>\n",
       "      <td>NaN</td>\n",
       "      <td>Another answer</td>\n",
       "      <td>2</td>\n",
       "    </tr>\n",
       "  </tbody>\n",
       "</table>\n",
       "</div>"
      ],
      "text/plain": [
       "                       topic  \\\n",
       "55   Operation of mechanisms   \n",
       "126            Logical traps   \n",
       "\n",
       "                                     problem_statement  \\\n",
       "55   In a machine, there are three levers: A, B, an...   \n",
       "126  Alice, Bob, and Charlie are three siblings. Al...   \n",
       "\n",
       "                                              solution   answer_option_1  \\\n",
       "55   Assuming the machine turns on only when a spec...  A: U, B: U, C: U   \n",
       "126  If Alice were lying, then none of the siblings...               One   \n",
       "\n",
       "      answer_option_2   answer_option_3 answer_option_4 answer_option_5  \\\n",
       "55   A: U, B: U, C: D  A: D, B: U, C: U             NaN  Another answer   \n",
       "126               Two             Three             NaN  Another answer   \n",
       "\n",
       "     correct_option_number  \n",
       "55                       2  \n",
       "126                      2  "
      ]
     },
     "execution_count": 5,
     "metadata": {},
     "output_type": "execute_result"
    }
   ],
   "source": [
    "missing_rows = df[df['answer_option_4'].isna()]\n",
    "for ps in missing_rows['problem_statement']:\n",
    "    print('PS WITH MISSING VALUE :\\n', ps, end  = '\\n\\n')\n",
    "missing_rows"
   ]
  },
  {
   "cell_type": "markdown",
   "id": "51ea5152",
   "metadata": {},
   "source": [
    "### Missing values are not of great concern as they are in option and one of them is self explanable and other can be ignored and dealt later."
   ]
  },
  {
   "cell_type": "code",
   "execution_count": 6,
   "id": "2d4cbf1e",
   "metadata": {},
   "outputs": [
    {
     "data": {
      "image/png": "[encoded data removed]",
      "text/plain": [
       "<Figure size 400x400 with 1 Axes>"
      ]
     },
     "metadata": {},
     "output_type": "display_data"
    },
    {
     "data": {
      "text/plain": [
       "topic\n",
       "Spatial reasoning                       94\n",
       "Optimization of actions and planning    83\n",
       "Operation of mechanisms                 64\n",
       "Sequence solving                        62\n",
       "Lateral thinking                        35\n",
       "Classic riddles                         33\n",
       "Logical traps                           13\n",
       "Name: count, dtype: int64"
      ]
     },
     "execution_count": 6,
     "metadata": {},
     "output_type": "execute_result"
    }
   ],
   "source": [
    "# Exploring topic\n",
    "topic_counts = df['topic'].value_counts()\n",
    "plt.figure(figsize = (4, 4))\n",
    "plt.pie(topic_counts, labels = topic_counts)\n",
    "plt.show()\n",
    "topic_counts"
   ]
  },
  {
   "cell_type": "markdown",
   "id": "13150af2",
   "metadata": {},
   "source": [
    "## There are 7 categories hence initial thought is to think in direction of making tools for individual category"
   ]
  }
 ],
 "metadata": {
  "kernelspec": {
   "display_name": ".venv",
   "language": "python",
   "name": "python3"
  },
  "language_info": {
   "codemirror_mode": {
    "name": "ipython",
    "version": 3
   },
   "file_extension": ".py",
   "mimetype": "text/x-python",
   "name": "python",
   "nbconvert_exporter": "python",
   "pygments_lexer": "ipython3",
   "version": "3.12.6"
  }
 },
 "nbformat": 4,
 "nbformat_minor": 5
}
